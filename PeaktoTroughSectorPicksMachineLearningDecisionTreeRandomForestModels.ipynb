{
  "nbformat": 4,
  "nbformat_minor": 0,
  "metadata": {
    "colab": {
      "name": "PeaktoTroughSectorPicksMachineLearningDecisionTreeRandomForestModels.ipynb",
      "provenance": [],
      "collapsed_sections": []
    },
    "kernelspec": {
      "name": "python3",
      "display_name": "Python 3"
    }
  },
  "cells": [
    {
      "cell_type": "code",
      "metadata": {
        "id": "5_2rK5QIqFfj",
        "colab_type": "code",
        "colab": {}
      },
      "source": [
        "from sklearn import tree\n",
        "import pandas as pd\n",
        "import os"
      ],
      "execution_count": 0,
      "outputs": []
    },
    {
      "cell_type": "code",
      "metadata": {
        "id": "zc-YpUZ12ruh",
        "colab_type": "code",
        "outputId": "c86d2b3a-0aab-42e7-c4a4-34e94e26d575",
        "colab": {
          "base_uri": "https://localhost:8080/",
          "height": 241
        }
      },
      "source": [
        "df = pd.read_csv('/content/Pct_Change_Table_Trimmed_CSV.csv')\n",
        "df.head()\n"
      ],
      "execution_count": 207,
      "outputs": [
        {
          "output_type": "execute_result",
          "data": {
            "text/html": [
              "<div>\n",
              "<style scoped>\n",
              "    .dataframe tbody tr th:only-of-type {\n",
              "        vertical-align: middle;\n",
              "    }\n",
              "\n",
              "    .dataframe tbody tr th {\n",
              "        vertical-align: top;\n",
              "    }\n",
              "\n",
              "    .dataframe thead th {\n",
              "        text-align: right;\n",
              "    }\n",
              "</style>\n",
              "<table border=\"1\" class=\"dataframe\">\n",
              "  <thead>\n",
              "    <tr style=\"text-align: right;\">\n",
              "      <th></th>\n",
              "      <th>Sector</th>\n",
              "      <th>2008  Peak to Trough Close Price % Drop</th>\n",
              "      <th>2008  Trough to Peak Close Price % Increase</th>\n",
              "      <th>2020  Peak to Trough Close Price % Drop</th>\n",
              "      <th>2020 Trough to Peak Close Price % Increase</th>\n",
              "      <th>2008  Peak to Trough Close Market Cap % Drop</th>\n",
              "      <th>2008  Trough to Peak  Market Cap % Increase</th>\n",
              "      <th>2020  Peak to Trough  Market Cap % Drop</th>\n",
              "      <th>2020 Trough to Peak Close  Market Cap % Increase</th>\n",
              "    </tr>\n",
              "  </thead>\n",
              "  <tbody>\n",
              "    <tr>\n",
              "      <th>0</th>\n",
              "      <td>1</td>\n",
              "      <td>0.32</td>\n",
              "      <td>0.32</td>\n",
              "      <td>0.27</td>\n",
              "      <td>-0.07</td>\n",
              "      <td>0.33</td>\n",
              "      <td>0.34</td>\n",
              "      <td>0.27</td>\n",
              "      <td>-0.07</td>\n",
              "    </tr>\n",
              "    <tr>\n",
              "      <th>1</th>\n",
              "      <td>1</td>\n",
              "      <td>0.25</td>\n",
              "      <td>0.41</td>\n",
              "      <td>0.17</td>\n",
              "      <td>0.08</td>\n",
              "      <td>0.24</td>\n",
              "      <td>1.30</td>\n",
              "      <td>0.17</td>\n",
              "      <td>0.13</td>\n",
              "    </tr>\n",
              "    <tr>\n",
              "      <th>2</th>\n",
              "      <td>1</td>\n",
              "      <td>0.77</td>\n",
              "      <td>2.38</td>\n",
              "      <td>0.34</td>\n",
              "      <td>-0.03</td>\n",
              "      <td>0.77</td>\n",
              "      <td>2.47</td>\n",
              "      <td>0.34</td>\n",
              "      <td>-0.03</td>\n",
              "    </tr>\n",
              "    <tr>\n",
              "      <th>3</th>\n",
              "      <td>1</td>\n",
              "      <td>0.55</td>\n",
              "      <td>0.47</td>\n",
              "      <td>0.17</td>\n",
              "      <td>0.16</td>\n",
              "      <td>0.57</td>\n",
              "      <td>0.48</td>\n",
              "      <td>0.18</td>\n",
              "      <td>0.20</td>\n",
              "    </tr>\n",
              "    <tr>\n",
              "      <th>4</th>\n",
              "      <td>1</td>\n",
              "      <td>0.58</td>\n",
              "      <td>0.34</td>\n",
              "      <td>0.20</td>\n",
              "      <td>0.06</td>\n",
              "      <td>0.48</td>\n",
              "      <td>0.32</td>\n",
              "      <td>0.20</td>\n",
              "      <td>0.03</td>\n",
              "    </tr>\n",
              "  </tbody>\n",
              "</table>\n",
              "</div>"
            ],
            "text/plain": [
              "   Sector  ...  2020 Trough to Peak Close  Market Cap % Increase\n",
              "0       1  ...                                             -0.07\n",
              "1       1  ...                                              0.13\n",
              "2       1  ...                                             -0.03\n",
              "3       1  ...                                              0.20\n",
              "4       1  ...                                              0.03\n",
              "\n",
              "[5 rows x 9 columns]"
            ]
          },
          "metadata": {
            "tags": []
          },
          "execution_count": 207
        }
      ]
    },
    {
      "cell_type": "code",
      "metadata": {
        "id": "mnigaUY041ih",
        "colab_type": "code",
        "colab": {}
      },
      "source": [
        "target = df[\"Sector\"]\n"
      ],
      "execution_count": 0,
      "outputs": []
    },
    {
      "cell_type": "code",
      "metadata": {
        "id": "FAumijQW53fF",
        "colab_type": "code",
        "outputId": "6deaa55b-c46c-4602-caf7-15b38833d590",
        "colab": {
          "base_uri": "https://localhost:8080/",
          "height": 241
        }
      },
      "source": [
        "data = df.drop(\"Sector\", axis=1)\n",
        "feature_names = data.columns\n",
        "data.head()"
      ],
      "execution_count": 209,
      "outputs": [
        {
          "output_type": "execute_result",
          "data": {
            "text/html": [
              "<div>\n",
              "<style scoped>\n",
              "    .dataframe tbody tr th:only-of-type {\n",
              "        vertical-align: middle;\n",
              "    }\n",
              "\n",
              "    .dataframe tbody tr th {\n",
              "        vertical-align: top;\n",
              "    }\n",
              "\n",
              "    .dataframe thead th {\n",
              "        text-align: right;\n",
              "    }\n",
              "</style>\n",
              "<table border=\"1\" class=\"dataframe\">\n",
              "  <thead>\n",
              "    <tr style=\"text-align: right;\">\n",
              "      <th></th>\n",
              "      <th>2008  Peak to Trough Close Price % Drop</th>\n",
              "      <th>2008  Trough to Peak Close Price % Increase</th>\n",
              "      <th>2020  Peak to Trough Close Price % Drop</th>\n",
              "      <th>2020 Trough to Peak Close Price % Increase</th>\n",
              "      <th>2008  Peak to Trough Close Market Cap % Drop</th>\n",
              "      <th>2008  Trough to Peak  Market Cap % Increase</th>\n",
              "      <th>2020  Peak to Trough  Market Cap % Drop</th>\n",
              "      <th>2020 Trough to Peak Close  Market Cap % Increase</th>\n",
              "    </tr>\n",
              "  </thead>\n",
              "  <tbody>\n",
              "    <tr>\n",
              "      <th>0</th>\n",
              "      <td>0.32</td>\n",
              "      <td>0.32</td>\n",
              "      <td>0.27</td>\n",
              "      <td>-0.07</td>\n",
              "      <td>0.33</td>\n",
              "      <td>0.34</td>\n",
              "      <td>0.27</td>\n",
              "      <td>-0.07</td>\n",
              "    </tr>\n",
              "    <tr>\n",
              "      <th>1</th>\n",
              "      <td>0.25</td>\n",
              "      <td>0.41</td>\n",
              "      <td>0.17</td>\n",
              "      <td>0.08</td>\n",
              "      <td>0.24</td>\n",
              "      <td>1.30</td>\n",
              "      <td>0.17</td>\n",
              "      <td>0.13</td>\n",
              "    </tr>\n",
              "    <tr>\n",
              "      <th>2</th>\n",
              "      <td>0.77</td>\n",
              "      <td>2.38</td>\n",
              "      <td>0.34</td>\n",
              "      <td>-0.03</td>\n",
              "      <td>0.77</td>\n",
              "      <td>2.47</td>\n",
              "      <td>0.34</td>\n",
              "      <td>-0.03</td>\n",
              "    </tr>\n",
              "    <tr>\n",
              "      <th>3</th>\n",
              "      <td>0.55</td>\n",
              "      <td>0.47</td>\n",
              "      <td>0.17</td>\n",
              "      <td>0.16</td>\n",
              "      <td>0.57</td>\n",
              "      <td>0.48</td>\n",
              "      <td>0.18</td>\n",
              "      <td>0.20</td>\n",
              "    </tr>\n",
              "    <tr>\n",
              "      <th>4</th>\n",
              "      <td>0.58</td>\n",
              "      <td>0.34</td>\n",
              "      <td>0.20</td>\n",
              "      <td>0.06</td>\n",
              "      <td>0.48</td>\n",
              "      <td>0.32</td>\n",
              "      <td>0.20</td>\n",
              "      <td>0.03</td>\n",
              "    </tr>\n",
              "  </tbody>\n",
              "</table>\n",
              "</div>"
            ],
            "text/plain": [
              "   2008  Peak to Trough Close Price % Drop  ...  2020 Trough to Peak Close  Market Cap % Increase\n",
              "0                                     0.32  ...                                             -0.07\n",
              "1                                     0.25  ...                                              0.13\n",
              "2                                     0.77  ...                                             -0.03\n",
              "3                                     0.55  ...                                              0.20\n",
              "4                                     0.58  ...                                              0.03\n",
              "\n",
              "[5 rows x 8 columns]"
            ]
          },
          "metadata": {
            "tags": []
          },
          "execution_count": 209
        }
      ]
    },
    {
      "cell_type": "code",
      "metadata": {
        "id": "Ht1ZHRZE6OQy",
        "colab_type": "code",
        "colab": {}
      },
      "source": [
        "from sklearn.model_selection import train_test_split\n",
        "X_train, X_test, y_train, y_test = train_test_split(data, target, random_state=42)"
      ],
      "execution_count": 0,
      "outputs": []
    },
    {
      "cell_type": "code",
      "metadata": {
        "id": "Ddj5B4mDA5mu",
        "colab_type": "code",
        "outputId": "13232046-12ce-4e5d-9050-3904e64e7f10",
        "colab": {
          "base_uri": "https://localhost:8080/",
          "height": 55
        }
      },
      "source": [
        "clf = tree.DecisionTreeClassifier(max_depth=3).fit(X_train,y_train)\n",
        "print(\"Decision Tree Training Score:\"+str(clf.score(X_train,y_train)))\n",
        "print(\"Decision Tree Test Score:\"+str(clf.score(X_test,y_test)))\n",
        "pred = clf.predict(X_train)"
      ],
      "execution_count": 211,
      "outputs": [
        {
          "output_type": "stream",
          "text": [
            "Decision Tree Training Score:0.9523809523809523\n",
            "Decision Tree Test Score:0.625\n"
          ],
          "name": "stdout"
        }
      ]
    },
    {
      "cell_type": "code",
      "metadata": {
        "id": "o1hvYhcb6ZVj",
        "colab_type": "code",
        "outputId": "3bfe0ba1-fb20-498e-bc09-0027378af3db",
        "colab": {
          "base_uri": "https://localhost:8080/",
          "height": 36
        }
      },
      "source": [
        "clf = tree.DecisionTreeClassifier()\n",
        "clf = clf.fit(X_train, y_train)\n",
        "clf.score(X_test, y_test)"
      ],
      "execution_count": 212,
      "outputs": [
        {
          "output_type": "execute_result",
          "data": {
            "text/plain": [
              "0.125"
            ]
          },
          "metadata": {
            "tags": []
          },
          "execution_count": 212
        }
      ]
    },
    {
      "cell_type": "code",
      "metadata": {
        "id": "OSVaueXX6fdL",
        "colab_type": "code",
        "outputId": "c597adfa-eec8-4232-b3c5-70e1dc1e02f7",
        "colab": {
          "base_uri": "https://localhost:8080/",
          "height": 36
        }
      },
      "source": [
        "from sklearn.ensemble import RandomForestClassifier\n",
        "rf = RandomForestClassifier(n_estimators=200, max_depth=3)\n",
        "rf = rf.fit(X_train, y_train)\n",
        "rf.score(X_test, y_test)"
      ],
      "execution_count": 213,
      "outputs": [
        {
          "output_type": "execute_result",
          "data": {
            "text/plain": [
              "0.25"
            ]
          },
          "metadata": {
            "tags": []
          },
          "execution_count": 213
        }
      ]
    },
    {
      "cell_type": "code",
      "metadata": {
        "id": "lOrOO-mFCdN1",
        "colab_type": "code",
        "outputId": "36d427da-7d42-43fe-ae16-7e00b3e6433b",
        "colab": {
          "base_uri": "https://localhost:8080/",
          "height": 55
        }
      },
      "source": [
        "print(\"Random Forest Training Score:\"+str(rf.score(X_train,y_train)))\n",
        "print(\"Random Forest Test Score:\"+str(rf.score(X_test,y_test)))\n",
        "pred = rf.predict(X_train)"
      ],
      "execution_count": 214,
      "outputs": [
        {
          "output_type": "stream",
          "text": [
            "Random Forest Training Score:1.0\n",
            "Random Forest Test Score:0.25\n"
          ],
          "name": "stdout"
        }
      ]
    },
    {
      "cell_type": "code",
      "metadata": {
        "id": "nNJ1oDgU6n0S",
        "colab_type": "code",
        "outputId": "53c86ce5-2b40-4402-8467-9bd853f9c676",
        "colab": {
          "base_uri": "https://localhost:8080/",
          "height": 171
        }
      },
      "source": [
        "sorted(zip(rf.feature_importances_, feature_names), reverse=True)"
      ],
      "execution_count": 193,
      "outputs": [
        {
          "output_type": "execute_result",
          "data": {
            "text/plain": [
              "[(0.1915981761237839, '2020  Peak to Trough Close Price % Drop'),\n",
              " (0.16216258000570843, '2020  Peak to Trough  Market Cap % Drop'),\n",
              " (0.1472088773276184, '2008  Peak to Trough Close Price % Drop'),\n",
              " (0.13705518722508223, '2020 Trough to Peak Close Price % Increase'),\n",
              " (0.10987369648977229, '2008  Trough to Peak  Market Cap % Increase'),\n",
              " (0.10183728811947686, '2008  Peak to Trough Close Market Cap % Drop'),\n",
              " (0.09012023539364744, '2020 Trough to Peak Close  Market Cap % Increase'),\n",
              " (0.060143959314910456, '2008  Trough to Peak Close Price % Increase')]"
            ]
          },
          "metadata": {
            "tags": []
          },
          "execution_count": 193
        }
      ]
    },
    {
      "cell_type": "code",
      "metadata": {
        "id": "uyB9fDML6yDa",
        "colab_type": "code",
        "colab": {}
      },
      "source": [
        ""
      ],
      "execution_count": 0,
      "outputs": []
    }
  ]
}