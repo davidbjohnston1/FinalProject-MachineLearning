{
  "nbformat": 4,
  "nbformat_minor": 0,
  "metadata": {
    "colab": {
      "name": "SP500DataMachineLearningDecisionTreeRandomForestModels.ipynb",
      "provenance": [],
      "collapsed_sections": []
    },
    "kernelspec": {
      "name": "python3",
      "display_name": "Python 3"
    }
  },
  "cells": [
    {
      "cell_type": "code",
      "metadata": {
        "id": "5_2rK5QIqFfj",
        "colab_type": "code",
        "colab": {}
      },
      "source": [
        "from sklearn import tree\n",
        "import pandas as pd\n",
        "import os"
      ],
      "execution_count": 0,
      "outputs": []
    },
    {
      "cell_type": "code",
      "metadata": {
        "id": "zc-YpUZ12ruh",
        "colab_type": "code",
        "outputId": "900db1dc-1264-4090-cb7f-a6bee46d5ed0",
        "colab": {
          "base_uri": "https://localhost:8080/",
          "height": 206
        }
      },
      "source": [
        "df = pd.read_csv('/content/constituents-financials_trimmed_csv.csv')\n",
        "df.head()\n"
      ],
      "execution_count": 11,
      "outputs": [
        {
          "output_type": "execute_result",
          "data": {
            "text/html": [
              "<div>\n",
              "<style scoped>\n",
              "    .dataframe tbody tr th:only-of-type {\n",
              "        vertical-align: middle;\n",
              "    }\n",
              "\n",
              "    .dataframe tbody tr th {\n",
              "        vertical-align: top;\n",
              "    }\n",
              "\n",
              "    .dataframe thead th {\n",
              "        text-align: right;\n",
              "    }\n",
              "</style>\n",
              "<table border=\"1\" class=\"dataframe\">\n",
              "  <thead>\n",
              "    <tr style=\"text-align: right;\">\n",
              "      <th></th>\n",
              "      <th>SectorID</th>\n",
              "      <th>Price</th>\n",
              "      <th>Price/Earnings</th>\n",
              "      <th>Dividend Yield</th>\n",
              "      <th>Earnings/Share</th>\n",
              "      <th>52 Week Low</th>\n",
              "      <th>52 Week High</th>\n",
              "      <th>Market Cap</th>\n",
              "      <th>EBITDA</th>\n",
              "      <th>Price/Sales</th>\n",
              "      <th>Price/Book</th>\n",
              "    </tr>\n",
              "  </thead>\n",
              "  <tbody>\n",
              "    <tr>\n",
              "      <th>0</th>\n",
              "      <td>1</td>\n",
              "      <td>109.63</td>\n",
              "      <td>19.54</td>\n",
              "      <td>0.218321</td>\n",
              "      <td>6.19</td>\n",
              "      <td>169.55</td>\n",
              "      <td>78.81</td>\n",
              "      <td>8.123612e+09</td>\n",
              "      <td>8.539410e+08</td>\n",
              "      <td>1.130106</td>\n",
              "      <td>2.51</td>\n",
              "    </tr>\n",
              "    <tr>\n",
              "      <th>1</th>\n",
              "      <td>1</td>\n",
              "      <td>1350.50</td>\n",
              "      <td>296.16</td>\n",
              "      <td>0.000000</td>\n",
              "      <td>6.16</td>\n",
              "      <td>1498.00</td>\n",
              "      <td>812.50</td>\n",
              "      <td>6.858730e+11</td>\n",
              "      <td>1.613200e+10</td>\n",
              "      <td>3.927053</td>\n",
              "      <td>24.28</td>\n",
              "    </tr>\n",
              "    <tr>\n",
              "      <th>2</th>\n",
              "      <td>1</td>\n",
              "      <td>89.27</td>\n",
              "      <td>69.74</td>\n",
              "      <td>0.939268</td>\n",
              "      <td>5.05</td>\n",
              "      <td>96.91</td>\n",
              "      <td>82.97</td>\n",
              "      <td>2.490653e+10</td>\n",
              "      <td>2.370000e+09</td>\n",
              "      <td>1.502580</td>\n",
              "      <td>7.56</td>\n",
              "    </tr>\n",
              "    <tr>\n",
              "      <th>3</th>\n",
              "      <td>1</td>\n",
              "      <td>718.57</td>\n",
              "      <td>16.31</td>\n",
              "      <td>0.000000</td>\n",
              "      <td>44.09</td>\n",
              "      <td>797.89</td>\n",
              "      <td>491.13</td>\n",
              "      <td>1.992202e+10</td>\n",
              "      <td>2.347304e+09</td>\n",
              "      <td>1.851043</td>\n",
              "      <td>136.23</td>\n",
              "    </tr>\n",
              "    <tr>\n",
              "      <th>4</th>\n",
              "      <td>1</td>\n",
              "      <td>68.79</td>\n",
              "      <td>19.22</td>\n",
              "      <td>1.908504</td>\n",
              "      <td>3.81</td>\n",
              "      <td>78.59</td>\n",
              "      <td>41.67</td>\n",
              "      <td>2.083119e+10</td>\n",
              "      <td>2.555000e+09</td>\n",
              "      <td>0.767155</td>\n",
              "      <td>4.79</td>\n",
              "    </tr>\n",
              "  </tbody>\n",
              "</table>\n",
              "</div>"
            ],
            "text/plain": [
              "   SectorID    Price  Price/Earnings  ...        EBITDA  Price/Sales  Price/Book\n",
              "0         1   109.63           19.54  ...  8.539410e+08     1.130106        2.51\n",
              "1         1  1350.50          296.16  ...  1.613200e+10     3.927053       24.28\n",
              "2         1    89.27           69.74  ...  2.370000e+09     1.502580        7.56\n",
              "3         1   718.57           16.31  ...  2.347304e+09     1.851043      136.23\n",
              "4         1    68.79           19.22  ...  2.555000e+09     0.767155        4.79\n",
              "\n",
              "[5 rows x 11 columns]"
            ]
          },
          "metadata": {
            "tags": []
          },
          "execution_count": 11
        }
      ]
    },
    {
      "cell_type": "code",
      "metadata": {
        "id": "mnigaUY041ih",
        "colab_type": "code",
        "colab": {}
      },
      "source": [
        "target = df[\"SectorID\"]\n"
      ],
      "execution_count": 0,
      "outputs": []
    },
    {
      "cell_type": "code",
      "metadata": {
        "id": "FAumijQW53fF",
        "colab_type": "code",
        "outputId": "0dde1c10-ce80-4507-996d-0c3cbee8d977",
        "colab": {
          "base_uri": "https://localhost:8080/",
          "height": 206
        }
      },
      "source": [
        "data = df.drop(\"SectorID\", axis=1)\n",
        "feature_names = data.columns\n",
        "data.head()"
      ],
      "execution_count": 13,
      "outputs": [
        {
          "output_type": "execute_result",
          "data": {
            "text/html": [
              "<div>\n",
              "<style scoped>\n",
              "    .dataframe tbody tr th:only-of-type {\n",
              "        vertical-align: middle;\n",
              "    }\n",
              "\n",
              "    .dataframe tbody tr th {\n",
              "        vertical-align: top;\n",
              "    }\n",
              "\n",
              "    .dataframe thead th {\n",
              "        text-align: right;\n",
              "    }\n",
              "</style>\n",
              "<table border=\"1\" class=\"dataframe\">\n",
              "  <thead>\n",
              "    <tr style=\"text-align: right;\">\n",
              "      <th></th>\n",
              "      <th>Price</th>\n",
              "      <th>Price/Earnings</th>\n",
              "      <th>Dividend Yield</th>\n",
              "      <th>Earnings/Share</th>\n",
              "      <th>52 Week Low</th>\n",
              "      <th>52 Week High</th>\n",
              "      <th>Market Cap</th>\n",
              "      <th>EBITDA</th>\n",
              "      <th>Price/Sales</th>\n",
              "      <th>Price/Book</th>\n",
              "    </tr>\n",
              "  </thead>\n",
              "  <tbody>\n",
              "    <tr>\n",
              "      <th>0</th>\n",
              "      <td>109.63</td>\n",
              "      <td>19.54</td>\n",
              "      <td>0.218321</td>\n",
              "      <td>6.19</td>\n",
              "      <td>169.55</td>\n",
              "      <td>78.81</td>\n",
              "      <td>8.123612e+09</td>\n",
              "      <td>8.539410e+08</td>\n",
              "      <td>1.130106</td>\n",
              "      <td>2.51</td>\n",
              "    </tr>\n",
              "    <tr>\n",
              "      <th>1</th>\n",
              "      <td>1350.50</td>\n",
              "      <td>296.16</td>\n",
              "      <td>0.000000</td>\n",
              "      <td>6.16</td>\n",
              "      <td>1498.00</td>\n",
              "      <td>812.50</td>\n",
              "      <td>6.858730e+11</td>\n",
              "      <td>1.613200e+10</td>\n",
              "      <td>3.927053</td>\n",
              "      <td>24.28</td>\n",
              "    </tr>\n",
              "    <tr>\n",
              "      <th>2</th>\n",
              "      <td>89.27</td>\n",
              "      <td>69.74</td>\n",
              "      <td>0.939268</td>\n",
              "      <td>5.05</td>\n",
              "      <td>96.91</td>\n",
              "      <td>82.97</td>\n",
              "      <td>2.490653e+10</td>\n",
              "      <td>2.370000e+09</td>\n",
              "      <td>1.502580</td>\n",
              "      <td>7.56</td>\n",
              "    </tr>\n",
              "    <tr>\n",
              "      <th>3</th>\n",
              "      <td>718.57</td>\n",
              "      <td>16.31</td>\n",
              "      <td>0.000000</td>\n",
              "      <td>44.09</td>\n",
              "      <td>797.89</td>\n",
              "      <td>491.13</td>\n",
              "      <td>1.992202e+10</td>\n",
              "      <td>2.347304e+09</td>\n",
              "      <td>1.851043</td>\n",
              "      <td>136.23</td>\n",
              "    </tr>\n",
              "    <tr>\n",
              "      <th>4</th>\n",
              "      <td>68.79</td>\n",
              "      <td>19.22</td>\n",
              "      <td>1.908504</td>\n",
              "      <td>3.81</td>\n",
              "      <td>78.59</td>\n",
              "      <td>41.67</td>\n",
              "      <td>2.083119e+10</td>\n",
              "      <td>2.555000e+09</td>\n",
              "      <td>0.767155</td>\n",
              "      <td>4.79</td>\n",
              "    </tr>\n",
              "  </tbody>\n",
              "</table>\n",
              "</div>"
            ],
            "text/plain": [
              "     Price  Price/Earnings  ...  Price/Sales  Price/Book\n",
              "0   109.63           19.54  ...     1.130106        2.51\n",
              "1  1350.50          296.16  ...     3.927053       24.28\n",
              "2    89.27           69.74  ...     1.502580        7.56\n",
              "3   718.57           16.31  ...     1.851043      136.23\n",
              "4    68.79           19.22  ...     0.767155        4.79\n",
              "\n",
              "[5 rows x 10 columns]"
            ]
          },
          "metadata": {
            "tags": []
          },
          "execution_count": 13
        }
      ]
    },
    {
      "cell_type": "code",
      "metadata": {
        "id": "Ht1ZHRZE6OQy",
        "colab_type": "code",
        "colab": {}
      },
      "source": [
        "from sklearn.model_selection import train_test_split\n",
        "X_train, X_test, y_train, y_test = train_test_split(data, target, random_state=42)"
      ],
      "execution_count": 0,
      "outputs": []
    },
    {
      "cell_type": "code",
      "metadata": {
        "id": "o1hvYhcb6ZVj",
        "colab_type": "code",
        "outputId": "22427b86-aa35-4602-9da5-be0b78f3596d",
        "colab": {
          "base_uri": "https://localhost:8080/",
          "height": 36
        }
      },
      "source": [
        "clf = tree.DecisionTreeClassifier()\n",
        "clf = clf.fit(X_train, y_train)\n",
        "clf.score(X_test, y_test)"
      ],
      "execution_count": 15,
      "outputs": [
        {
          "output_type": "execute_result",
          "data": {
            "text/plain": [
              "0.3779527559055118"
            ]
          },
          "metadata": {
            "tags": []
          },
          "execution_count": 15
        }
      ]
    },
    {
      "cell_type": "code",
      "metadata": {
        "id": "bE7ePgzANyqU",
        "colab_type": "code",
        "colab": {
          "base_uri": "https://localhost:8080/",
          "height": 55
        },
        "outputId": "2463583b-9b4d-40a7-9d7b-6433b640e0a3"
      },
      "source": [
        "clf = tree.DecisionTreeClassifier(max_depth=3).fit(X_train,y_train)\n",
        "print(\"Decision Tree Training Score:\"+str(clf.score(X_train,y_train)))\n",
        "print(\"Decision Tree Test Score:\"+str(clf.score(X_test,y_test)))\n",
        "pred = clf.predict(X_train)"
      ],
      "execution_count": 18,
      "outputs": [
        {
          "output_type": "stream",
          "text": [
            "Decision Tree Training Score:0.37566137566137564\n",
            "Decision Tree Test Score:0.3700787401574803\n"
          ],
          "name": "stdout"
        }
      ]
    },
    {
      "cell_type": "code",
      "metadata": {
        "id": "OSVaueXX6fdL",
        "colab_type": "code",
        "outputId": "8027bffc-ac5a-4bdc-bf54-f2fa73f57067",
        "colab": {
          "base_uri": "https://localhost:8080/",
          "height": 36
        }
      },
      "source": [
        "from sklearn.ensemble import RandomForestClassifier\n",
        "rf = RandomForestClassifier(n_estimators=200, max_depth=3)\n",
        "rf = rf.fit(X_train, y_train)\n",
        "rf.score(X_test, y_test)"
      ],
      "execution_count": 19,
      "outputs": [
        {
          "output_type": "execute_result",
          "data": {
            "text/plain": [
              "0.47244094488188976"
            ]
          },
          "metadata": {
            "tags": []
          },
          "execution_count": 19
        }
      ]
    },
    {
      "cell_type": "code",
      "metadata": {
        "id": "D4Ru9lt7OC5u",
        "colab_type": "code",
        "colab": {
          "base_uri": "https://localhost:8080/",
          "height": 55
        },
        "outputId": "0c165342-e124-4912-c6fa-3c7fd0856cb2"
      },
      "source": [
        "print(\"Random Forest Training Score:\"+str(rf.score(X_train,y_train)))\n",
        "print(\"Random Forest Test Score:\"+str(rf.score(X_test,y_test)))\n",
        "pred = rf.predict(X_train)"
      ],
      "execution_count": 20,
      "outputs": [
        {
          "output_type": "stream",
          "text": [
            "Random Forest Training Score:0.5291005291005291\n",
            "Random Forest Test Score:0.47244094488188976\n"
          ],
          "name": "stdout"
        }
      ]
    },
    {
      "cell_type": "code",
      "metadata": {
        "id": "nNJ1oDgU6n0S",
        "colab_type": "code",
        "outputId": "fff10196-3d27-4a8a-996e-33a3d79734d7",
        "colab": {
          "base_uri": "https://localhost:8080/",
          "height": 209
        }
      },
      "source": [
        "sorted(zip(rf.feature_importances_, feature_names), reverse=True)"
      ],
      "execution_count": 8,
      "outputs": [
        {
          "output_type": "execute_result",
          "data": {
            "text/plain": [
              "[(0.15743333861685055, 'EBITDA'),\n",
              " (0.12969679346949745, 'Price/Sales'),\n",
              " (0.11951883850015976, 'Dividend Yield'),\n",
              " (0.11087284725280327, 'Earnings/Share'),\n",
              " (0.10185347038036452, 'Price/Earnings'),\n",
              " (0.10096813244036798, 'Price/Book'),\n",
              " (0.08326137217350385, 'Market Cap'),\n",
              " (0.06802307437245607, '52 Week High'),\n",
              " (0.06634863750525904, '52 Week Low'),\n",
              " (0.062023495288737594, 'Price')]"
            ]
          },
          "metadata": {
            "tags": []
          },
          "execution_count": 8
        }
      ]
    },
    {
      "cell_type": "code",
      "metadata": {
        "id": "uyB9fDML6yDa",
        "colab_type": "code",
        "colab": {}
      },
      "source": [
        ""
      ],
      "execution_count": 0,
      "outputs": []
    }
  ]
}