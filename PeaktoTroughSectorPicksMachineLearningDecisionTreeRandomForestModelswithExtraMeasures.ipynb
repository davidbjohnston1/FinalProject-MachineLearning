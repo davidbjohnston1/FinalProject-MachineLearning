{
  "nbformat": 4,
  "nbformat_minor": 0,
  "metadata": {
    "colab": {
      "name": "PeaktoTroughSectorPicksMachineLearningDecisionTreeRandomForestModelswithExtraMeasures.ipynb",
      "provenance": [],
      "collapsed_sections": []
    },
    "kernelspec": {
      "name": "python3",
      "display_name": "Python 3"
    }
  },
  "cells": [
    {
      "cell_type": "code",
      "metadata": {
        "id": "8O8Fym12JqPv",
        "colab_type": "code",
        "colab": {}
      },
      "source": [
        "from sklearn import tree\n",
        "import pandas as pd\n",
        "import os"
      ],
      "execution_count": 0,
      "outputs": []
    },
    {
      "cell_type": "code",
      "metadata": {
        "id": "Xo8Q6ZI4JuXK",
        "colab_type": "code",
        "colab": {
          "base_uri": "https://localhost:8080/",
          "height": 310
        },
        "outputId": "0b2db61b-98ef-424c-bc58-dbc9cf14213e"
      },
      "source": [
        "df = pd.read_csv('/content/Complete_Data_With_Pct_Change_Table_Including_Extra_Measures_Trimmed.csv')\n",
        "df.head()"
      ],
      "execution_count": 43,
      "outputs": [
        {
          "output_type": "execute_result",
          "data": {
            "text/html": [
              "<div>\n",
              "<style scoped>\n",
              "    .dataframe tbody tr th:only-of-type {\n",
              "        vertical-align: middle;\n",
              "    }\n",
              "\n",
              "    .dataframe tbody tr th {\n",
              "        vertical-align: top;\n",
              "    }\n",
              "\n",
              "    .dataframe thead th {\n",
              "        text-align: right;\n",
              "    }\n",
              "</style>\n",
              "<table border=\"1\" class=\"dataframe\">\n",
              "  <thead>\n",
              "    <tr style=\"text-align: right;\">\n",
              "      <th></th>\n",
              "      <th>Sector</th>\n",
              "      <th>2008  Peak to Trough Close Price % Drop</th>\n",
              "      <th>2008  Trough to Peak Close Price % Increase</th>\n",
              "      <th>2020  Peak to Trough Close Price % Drop</th>\n",
              "      <th>2020 Trough to Peak Close Price % Increase</th>\n",
              "      <th>2008  Peak to Trough Close Market Cap % Drop</th>\n",
              "      <th>2008  Trough to Peak  Market Cap % Increase</th>\n",
              "      <th>2020  Peak to Trough  Market Cap % Drop</th>\n",
              "      <th>2020 Trough to Peak Close  Market Cap % Increase</th>\n",
              "      <th>2008  Peak to Trough EPS % Drop</th>\n",
              "      <th>2008  Trough to Peak EPS % Increase</th>\n",
              "      <th>2020  Peak to Trough EPS % Drop</th>\n",
              "      <th>2008  Peak to Trough EBITDA % Drop</th>\n",
              "      <th>2008  Trough to Peak EBITDA % Increase</th>\n",
              "      <th>2020  Peak to Trough EBITDA % Drop</th>\n",
              "    </tr>\n",
              "  </thead>\n",
              "  <tbody>\n",
              "    <tr>\n",
              "      <th>0</th>\n",
              "      <td>1</td>\n",
              "      <td>0.322148</td>\n",
              "      <td>0.316584</td>\n",
              "      <td>0.265149</td>\n",
              "      <td>-0.068672</td>\n",
              "      <td>0.325325</td>\n",
              "      <td>0.336053</td>\n",
              "      <td>0.266230</td>\n",
              "      <td>-0.068042</td>\n",
              "      <td>0.133333</td>\n",
              "      <td>0.313609</td>\n",
              "      <td>0.785992</td>\n",
              "      <td>0.000000</td>\n",
              "      <td>0.000000</td>\n",
              "      <td>0.000000</td>\n",
              "    </tr>\n",
              "    <tr>\n",
              "      <th>1</th>\n",
              "      <td>1</td>\n",
              "      <td>0.250101</td>\n",
              "      <td>0.414949</td>\n",
              "      <td>0.165696</td>\n",
              "      <td>0.079937</td>\n",
              "      <td>0.241362</td>\n",
              "      <td>1.296031</td>\n",
              "      <td>0.168695</td>\n",
              "      <td>0.131332</td>\n",
              "      <td>0.680412</td>\n",
              "      <td>2.500000</td>\n",
              "      <td>0.378770</td>\n",
              "      <td>0.505378</td>\n",
              "      <td>3.719512</td>\n",
              "      <td>0.619154</td>\n",
              "    </tr>\n",
              "    <tr>\n",
              "      <th>2</th>\n",
              "      <td>1</td>\n",
              "      <td>0.770423</td>\n",
              "      <td>2.383712</td>\n",
              "      <td>0.340802</td>\n",
              "      <td>-0.028501</td>\n",
              "      <td>0.770128</td>\n",
              "      <td>2.471178</td>\n",
              "      <td>0.342672</td>\n",
              "      <td>-0.028414</td>\n",
              "      <td>0.411111</td>\n",
              "      <td>0.377358</td>\n",
              "      <td>0.798030</td>\n",
              "      <td>0.000000</td>\n",
              "      <td>0.000000</td>\n",
              "      <td>0.000000</td>\n",
              "    </tr>\n",
              "    <tr>\n",
              "      <th>3</th>\n",
              "      <td>1</td>\n",
              "      <td>0.550776</td>\n",
              "      <td>0.474421</td>\n",
              "      <td>0.165730</td>\n",
              "      <td>0.158702</td>\n",
              "      <td>0.570746</td>\n",
              "      <td>0.479833</td>\n",
              "      <td>0.175534</td>\n",
              "      <td>0.201558</td>\n",
              "      <td>0.850746</td>\n",
              "      <td>0.650000</td>\n",
              "      <td>-0.190909</td>\n",
              "      <td>0.779888</td>\n",
              "      <td>0.290646</td>\n",
              "      <td>-0.097143</td>\n",
              "    </tr>\n",
              "    <tr>\n",
              "      <th>4</th>\n",
              "      <td>1</td>\n",
              "      <td>0.580489</td>\n",
              "      <td>0.336242</td>\n",
              "      <td>0.203583</td>\n",
              "      <td>0.056735</td>\n",
              "      <td>0.477135</td>\n",
              "      <td>0.322936</td>\n",
              "      <td>0.201392</td>\n",
              "      <td>0.032268</td>\n",
              "      <td>0.220779</td>\n",
              "      <td>0.200000</td>\n",
              "      <td>-0.633588</td>\n",
              "      <td>-0.138914</td>\n",
              "      <td>0.087282</td>\n",
              "      <td>-0.461007</td>\n",
              "    </tr>\n",
              "  </tbody>\n",
              "</table>\n",
              "</div>"
            ],
            "text/plain": [
              "   Sector  ...  2020  Peak to Trough EBITDA % Drop\n",
              "0       1  ...                            0.000000\n",
              "1       1  ...                            0.619154\n",
              "2       1  ...                            0.000000\n",
              "3       1  ...                           -0.097143\n",
              "4       1  ...                           -0.461007\n",
              "\n",
              "[5 rows x 15 columns]"
            ]
          },
          "metadata": {
            "tags": []
          },
          "execution_count": 43
        }
      ]
    },
    {
      "cell_type": "code",
      "metadata": {
        "id": "CmMn6s66Ju9m",
        "colab_type": "code",
        "colab": {}
      },
      "source": [
        "target = df[\"Sector\"]"
      ],
      "execution_count": 0,
      "outputs": []
    },
    {
      "cell_type": "code",
      "metadata": {
        "id": "HtVgUIpxJxzL",
        "colab_type": "code",
        "colab": {
          "base_uri": "https://localhost:8080/",
          "height": 293
        },
        "outputId": "d46799d0-6cf0-4d3f-c9fa-2ccd498e690d"
      },
      "source": [
        "data = df.drop(\"Sector\", axis=1)\n",
        "feature_names = data.columns\n",
        "data.head()"
      ],
      "execution_count": 45,
      "outputs": [
        {
          "output_type": "execute_result",
          "data": {
            "text/html": [
              "<div>\n",
              "<style scoped>\n",
              "    .dataframe tbody tr th:only-of-type {\n",
              "        vertical-align: middle;\n",
              "    }\n",
              "\n",
              "    .dataframe tbody tr th {\n",
              "        vertical-align: top;\n",
              "    }\n",
              "\n",
              "    .dataframe thead th {\n",
              "        text-align: right;\n",
              "    }\n",
              "</style>\n",
              "<table border=\"1\" class=\"dataframe\">\n",
              "  <thead>\n",
              "    <tr style=\"text-align: right;\">\n",
              "      <th></th>\n",
              "      <th>2008  Peak to Trough Close Price % Drop</th>\n",
              "      <th>2008  Trough to Peak Close Price % Increase</th>\n",
              "      <th>2020  Peak to Trough Close Price % Drop</th>\n",
              "      <th>2020 Trough to Peak Close Price % Increase</th>\n",
              "      <th>2008  Peak to Trough Close Market Cap % Drop</th>\n",
              "      <th>2008  Trough to Peak  Market Cap % Increase</th>\n",
              "      <th>2020  Peak to Trough  Market Cap % Drop</th>\n",
              "      <th>2020 Trough to Peak Close  Market Cap % Increase</th>\n",
              "      <th>2008  Peak to Trough EPS % Drop</th>\n",
              "      <th>2008  Trough to Peak EPS % Increase</th>\n",
              "      <th>2020  Peak to Trough EPS % Drop</th>\n",
              "      <th>2008  Peak to Trough EBITDA % Drop</th>\n",
              "      <th>2008  Trough to Peak EBITDA % Increase</th>\n",
              "      <th>2020  Peak to Trough EBITDA % Drop</th>\n",
              "    </tr>\n",
              "  </thead>\n",
              "  <tbody>\n",
              "    <tr>\n",
              "      <th>0</th>\n",
              "      <td>0.322148</td>\n",
              "      <td>0.316584</td>\n",
              "      <td>0.265149</td>\n",
              "      <td>-0.068672</td>\n",
              "      <td>0.325325</td>\n",
              "      <td>0.336053</td>\n",
              "      <td>0.266230</td>\n",
              "      <td>-0.068042</td>\n",
              "      <td>0.133333</td>\n",
              "      <td>0.313609</td>\n",
              "      <td>0.785992</td>\n",
              "      <td>0.000000</td>\n",
              "      <td>0.000000</td>\n",
              "      <td>0.000000</td>\n",
              "    </tr>\n",
              "    <tr>\n",
              "      <th>1</th>\n",
              "      <td>0.250101</td>\n",
              "      <td>0.414949</td>\n",
              "      <td>0.165696</td>\n",
              "      <td>0.079937</td>\n",
              "      <td>0.241362</td>\n",
              "      <td>1.296031</td>\n",
              "      <td>0.168695</td>\n",
              "      <td>0.131332</td>\n",
              "      <td>0.680412</td>\n",
              "      <td>2.500000</td>\n",
              "      <td>0.378770</td>\n",
              "      <td>0.505378</td>\n",
              "      <td>3.719512</td>\n",
              "      <td>0.619154</td>\n",
              "    </tr>\n",
              "    <tr>\n",
              "      <th>2</th>\n",
              "      <td>0.770423</td>\n",
              "      <td>2.383712</td>\n",
              "      <td>0.340802</td>\n",
              "      <td>-0.028501</td>\n",
              "      <td>0.770128</td>\n",
              "      <td>2.471178</td>\n",
              "      <td>0.342672</td>\n",
              "      <td>-0.028414</td>\n",
              "      <td>0.411111</td>\n",
              "      <td>0.377358</td>\n",
              "      <td>0.798030</td>\n",
              "      <td>0.000000</td>\n",
              "      <td>0.000000</td>\n",
              "      <td>0.000000</td>\n",
              "    </tr>\n",
              "    <tr>\n",
              "      <th>3</th>\n",
              "      <td>0.550776</td>\n",
              "      <td>0.474421</td>\n",
              "      <td>0.165730</td>\n",
              "      <td>0.158702</td>\n",
              "      <td>0.570746</td>\n",
              "      <td>0.479833</td>\n",
              "      <td>0.175534</td>\n",
              "      <td>0.201558</td>\n",
              "      <td>0.850746</td>\n",
              "      <td>0.650000</td>\n",
              "      <td>-0.190909</td>\n",
              "      <td>0.779888</td>\n",
              "      <td>0.290646</td>\n",
              "      <td>-0.097143</td>\n",
              "    </tr>\n",
              "    <tr>\n",
              "      <th>4</th>\n",
              "      <td>0.580489</td>\n",
              "      <td>0.336242</td>\n",
              "      <td>0.203583</td>\n",
              "      <td>0.056735</td>\n",
              "      <td>0.477135</td>\n",
              "      <td>0.322936</td>\n",
              "      <td>0.201392</td>\n",
              "      <td>0.032268</td>\n",
              "      <td>0.220779</td>\n",
              "      <td>0.200000</td>\n",
              "      <td>-0.633588</td>\n",
              "      <td>-0.138914</td>\n",
              "      <td>0.087282</td>\n",
              "      <td>-0.461007</td>\n",
              "    </tr>\n",
              "  </tbody>\n",
              "</table>\n",
              "</div>"
            ],
            "text/plain": [
              "   2008  Peak to Trough Close Price % Drop  ...  2020  Peak to Trough EBITDA % Drop\n",
              "0                                 0.322148  ...                            0.000000\n",
              "1                                 0.250101  ...                            0.619154\n",
              "2                                 0.770423  ...                            0.000000\n",
              "3                                 0.550776  ...                           -0.097143\n",
              "4                                 0.580489  ...                           -0.461007\n",
              "\n",
              "[5 rows x 14 columns]"
            ]
          },
          "metadata": {
            "tags": []
          },
          "execution_count": 45
        }
      ]
    },
    {
      "cell_type": "code",
      "metadata": {
        "id": "BUkSJquDJzsE",
        "colab_type": "code",
        "colab": {}
      },
      "source": [
        "from sklearn.model_selection import train_test_split\n",
        "X_train, X_test, y_train, y_test = train_test_split(data, target, random_state=42)"
      ],
      "execution_count": 0,
      "outputs": []
    },
    {
      "cell_type": "code",
      "metadata": {
        "id": "_nsHSV71J1TU",
        "colab_type": "code",
        "colab": {
          "base_uri": "https://localhost:8080/",
          "height": 55
        },
        "outputId": "1e26b428-ab8f-46ac-9134-e3e26081dbdf"
      },
      "source": [
        "clf = tree.DecisionTreeClassifier(max_depth=3).fit(X_train,y_train)\n",
        "print(\"Decision Tree Training Score:\"+str(clf.score(X_train,y_train)))\n",
        "print(\"Decision Tree Test Score:\"+str(clf.score(X_test,y_test)))\n",
        "pred = clf.predict(X_train)"
      ],
      "execution_count": 47,
      "outputs": [
        {
          "output_type": "stream",
          "text": [
            "Decision Tree Training Score:1.0\n",
            "Decision Tree Test Score:0.375\n"
          ],
          "name": "stdout"
        }
      ]
    },
    {
      "cell_type": "code",
      "metadata": {
        "id": "RbWq01juJ3Al",
        "colab_type": "code",
        "colab": {
          "base_uri": "https://localhost:8080/",
          "height": 36
        },
        "outputId": "da45e5ee-df30-4a3e-cf17-2f4c53a89e94"
      },
      "source": [
        "clf = tree.DecisionTreeClassifier()\n",
        "clf = clf.fit(X_train, y_train)\n",
        "clf.score(X_test, y_test)"
      ],
      "execution_count": 48,
      "outputs": [
        {
          "output_type": "execute_result",
          "data": {
            "text/plain": [
              "0.5"
            ]
          },
          "metadata": {
            "tags": []
          },
          "execution_count": 48
        }
      ]
    },
    {
      "cell_type": "code",
      "metadata": {
        "id": "TRmrCVyUJ4rb",
        "colab_type": "code",
        "colab": {
          "base_uri": "https://localhost:8080/",
          "height": 36
        },
        "outputId": "744c24e9-98b9-428e-dfd9-f31d042763a0"
      },
      "source": [
        "from sklearn.ensemble import RandomForestClassifier\n",
        "rf = RandomForestClassifier(n_estimators=200, max_depth=3)\n",
        "rf = rf.fit(X_train, y_train)\n",
        "rf.score(X_test, y_test)"
      ],
      "execution_count": 49,
      "outputs": [
        {
          "output_type": "execute_result",
          "data": {
            "text/plain": [
              "0.75"
            ]
          },
          "metadata": {
            "tags": []
          },
          "execution_count": 49
        }
      ]
    },
    {
      "cell_type": "code",
      "metadata": {
        "id": "c4ZKQ75XJ6dP",
        "colab_type": "code",
        "colab": {
          "base_uri": "https://localhost:8080/",
          "height": 55
        },
        "outputId": "fd12d63f-1d50-4ea9-e075-6d7c1863cf5c"
      },
      "source": [
        "print(\"Random Forest Training Score:\"+str(rf.score(X_train,y_train)))\n",
        "print(\"Random Forest Test Score:\"+str(rf.score(X_test,y_test)))\n",
        "pred = rf.predict(X_train)"
      ],
      "execution_count": 50,
      "outputs": [
        {
          "output_type": "stream",
          "text": [
            "Random Forest Training Score:1.0\n",
            "Random Forest Test Score:0.75\n"
          ],
          "name": "stdout"
        }
      ]
    },
    {
      "cell_type": "code",
      "metadata": {
        "id": "TW3Z3nQUJ8Xl",
        "colab_type": "code",
        "colab": {
          "base_uri": "https://localhost:8080/",
          "height": 286
        },
        "outputId": "1cdebfa1-d1b4-477e-82ea-17d0735dcf15"
      },
      "source": [
        "sorted(zip(rf.feature_importances_, feature_names), reverse=True)"
      ],
      "execution_count": 51,
      "outputs": [
        {
          "output_type": "execute_result",
          "data": {
            "text/plain": [
              "[(0.11594747479358228, '2020  Peak to Trough Close Price % Drop'),\n",
              " (0.11565308492544879, '2020  Peak to Trough  Market Cap % Drop'),\n",
              " (0.09410211669685788, '2020 Trough to Peak Close Price % Increase'),\n",
              " (0.09067310374836857, '2008  Peak to Trough EBITDA % Drop'),\n",
              " (0.08125667097234755, '2008  Peak to Trough Close Market Cap % Drop'),\n",
              " (0.08108133711952197, '2008  Peak to Trough EPS % Drop'),\n",
              " (0.08069158314714071, '2020 Trough to Peak Close  Market Cap % Increase'),\n",
              " (0.07741209910900657, '2008  Trough to Peak  Market Cap % Increase'),\n",
              " (0.07262618745671086, '2008  Peak to Trough Close Price % Drop'),\n",
              " (0.0538134025736256, '2020  Peak to Trough EPS % Drop'),\n",
              " (0.04546502367919315, '2008  Trough to Peak EBITDA % Increase'),\n",
              " (0.042276631034729305, '2008  Trough to Peak Close Price % Increase'),\n",
              " (0.02835661800704492, '2008  Trough to Peak EPS % Increase'),\n",
              " (0.020644666736421957, '2020  Peak to Trough EBITDA % Drop')]"
            ]
          },
          "metadata": {
            "tags": []
          },
          "execution_count": 51
        }
      ]
    },
    {
      "cell_type": "code",
      "metadata": {
        "id": "F1PmtHlKKEXN",
        "colab_type": "code",
        "colab": {}
      },
      "source": [
        ""
      ],
      "execution_count": 0,
      "outputs": []
    }
  ]
}